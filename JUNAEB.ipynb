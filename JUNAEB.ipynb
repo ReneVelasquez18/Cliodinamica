{
 "cells": [
  {
   "cell_type": "code",
   "execution_count": 1,
   "id": "4a949c37",
   "metadata": {},
   "outputs": [],
   "source": [
    "import nbimporter\n",
    "import pandas as pd\n",
    "import numpy as np\n",
    "import awswrangler as wr\n",
    "import math\n",
    "import os\n",
    "import boto3\n",
    "from os import listdir\n",
    "from os.path import isfile, join\n",
    "\n",
    "from cliofunctions import ac_aws, normalize, normalize2, sort_and_group, operation, extract_info, porcentaje, promedio, ranking, top"
   ]
  },
  {
   "cell_type": "markdown",
   "id": "b7eb8ea9",
   "metadata": {},
   "source": [
    "# JUNAEB\n",
    "El siguiente script extrae los datos del mapa nutricional por comuna durante el año 2020 declarados por la JUNAEB. Notar que al imprimir el archivo, la columna que tiene los nombres de las comunas tiene el nombre de \"COMUNA\", es importante definirlo como \"main_groupe\"."
   ]
  },
  {
   "cell_type": "code",
   "execution_count": 2,
   "id": "e565a61c",
   "metadata": {},
   "outputs": [],
   "source": [
    "excel_file = pd.ExcelFile(\"MAPA-NUTRICIONAL-2020-POR-RBD.xlsx\")\n",
    "sheet_names = excel_file.sheet_names[:-1]"
   ]
  },
  {
   "cell_type": "code",
   "execution_count": 3,
   "id": "faae305c",
   "metadata": {},
   "outputs": [],
   "source": [
    "main_df =  pd.read_excel(\"MAPA-NUTRICIONAL-2020-POR-RBD.xlsx\", sheet_name = sheet_names[0], header=None)\n",
    "main_groupe = \"COMUNA\""
   ]
  },
  {
   "cell_type": "markdown",
   "id": "320ddd3b",
   "metadata": {},
   "source": [
    "## Arreglo de datos\n",
    "En las siguientes lineas se realiza la preparación de los datos para que estos puedan estar listos para ser agregados a la matriz consulta"
   ]
  },
  {
   "cell_type": "code",
   "execution_count": 4,
   "id": "ca598989",
   "metadata": {},
   "outputs": [],
   "source": [
    "main_df.iloc[0,:].dropna(axis = 0)\n",
    "row_1 = main_df.iloc[0,:].to_list()\n",
    "row_1 = [\"Cambiar\" if x != x else x for x in row_1]\n",
    "rep = \"ELIMINAR\"\n",
    "\n",
    "for i in range(len(row_1)):\n",
    "    if row_1[i] == \"Cambiar\":\n",
    "        row_1[i] = rep\n",
    "    else:\n",
    "        rep = row_1[i]\n",
    "\n",
    "for i in range(len(row_1)):\n",
    "    if \"Prevalencia niñas\" in row_1[i]:\n",
    "        row_1[i] = \"% Niñas\"\n",
    "    if \"Prevalencia niños\" in row_1[i]:\n",
    "        row_1[i] = \"% Niños\"\n",
    "    if \"Prevalencia total\" in row_1[i]:\n",
    "        row_1[i] = \"% Total Estudiantes\"\n",
    "    if \"niños\" in row_1[i]:\n",
    "        row_1[i] = \"Niños\"\n",
    "    if \"niñas\" in row_1[i]:\n",
    "        row_1[i] = \"Niñas\"\n",
    "    if \"estudiantes\" in row_1[i]:\n",
    "        row_1[i] = \"Estudiantes\""
   ]
  },
  {
   "cell_type": "code",
   "execution_count": 5,
   "id": "3d52361c",
   "metadata": {},
   "outputs": [],
   "source": [
    "header = []\n",
    "keep_header = []\n",
    "aux = main_df.iloc[1,:].dropna(axis = 0)\n",
    "for i in range(len(row_1)):\n",
    "    if i == 5:\n",
    "        header.append(\"COMUNA\")\n",
    "    else:\n",
    "        header.append(row_1[i] + \" \" + aux[i])\n",
    "\n",
    "for encabezado in header:\n",
    "    if \"ELIMINAR\" not in encabezado:\n",
    "        keep_header.append(encabezado)\n"
   ]
  },
  {
   "cell_type": "code",
   "execution_count": 6,
   "id": "f556b2bd",
   "metadata": {},
   "outputs": [],
   "source": [
    "aux_df = main_df.iloc[2:,:]\n",
    "aux_df.columns = header\n",
    "main_df = aux_df[keep_header]\n",
    "replace_head = [\"TOTAL ESTUDIANTES\", \"TOTAL NIÑOS\", \"TOTAL NIÑAS\"]\n",
    "for j in range(len(keep_header)):\n",
    "    for excepcion in replace_head:\n",
    "        if excepcion in keep_header[j]:\n",
    "            keep_header[j] = excepcion\n",
    "main_df.columns = keep_header\n",
    "main_df = main_df.iloc[:-1,:]"
   ]
  },
  {
   "cell_type": "code",
   "execution_count": 7,
   "id": "98ea11c9",
   "metadata": {},
   "outputs": [],
   "source": [
    "df = main_df.groupby(\"COMUNA\").sum()"
   ]
  },
  {
   "cell_type": "code",
   "execution_count": 8,
   "id": "b54bed23",
   "metadata": {},
   "outputs": [],
   "source": [
    "cols = df.columns.to_list()\n",
    "for i in range (3):\n",
    "    a = i * 17\n",
    "    b = cols[a : a + 17]\n",
    "    for j in range(1,9):\n",
    "        df[b[j+8]] = df[b[j-1]] / df[b[8]]\n",
    "main_df = df"
   ]
  },
  {
   "cell_type": "markdown",
   "id": "14afb140",
   "metadata": {},
   "source": [
    "### Descriptor"
   ]
  },
  {
   "cell_type": "code",
   "execution_count": 9,
   "id": "1e7450ed",
   "metadata": {},
   "outputs": [],
   "source": [
    "rows, cols = main_df.shape\n",
    "total_indicadores = cols-1\n",
    "header_d = [\"DIMENSIÓN\", \"SUBDIMENSIÓN\", \"VARIABLE\", \"INDICADOR\", \"DESCRIPCIÓN\", \"NOMBRE VARIABLE\", \"FUENTE\", \"AÑO\", \"ALCANCE\"]\n",
    "DIM = \"SOCIAL\"\n",
    "SUBD = \"SALUD\"\n",
    "VAR = \"COMORBILIDADES\"\n",
    "FUENTE = \"JUNAEB\"\n",
    "AÑO = \"2020\"\n",
    "ALCANCE = \"COMUNAL\"\n",
    "n_var = main_df.columns\n",
    "condicion = aux[10:].to_list()\n",
    "descripcion = []\n",
    "for k in range(len(n_var)):\n",
    "    a = \"LA CANTIDAD\"\n",
    "    c = \" CON \"\n",
    "    if \"%\" in n_var[k]:\n",
    "        a = \"EL PORCENTAJE\"\n",
    "    if \"Niñas\" in n_var[k]:\n",
    "        b = \" DE SEXO FEMENINO\"\n",
    "    if \"Niños\" in n_var[k]:\n",
    "        b = \" DE SEXO MASCULINO\"\n",
    "    if \"Estudiantes\" in n_var[k]:\n",
    "        b = \" \"\n",
    "    if \"Normal\" in n_var[k]:\n",
    "        c = \" CON CONDICIÓN \"\n",
    "    d = condicion[k].upper()\n",
    "    for excepcion in replace_head:\n",
    "        if excepcion in d:\n",
    "            c = \"\"\n",
    "            d = \"\"\n",
    "    descripcion.append(\"INDICA \" + a + \" ESTUDIANTES\" + b + c + d)"
   ]
  },
  {
   "cell_type": "code",
   "execution_count": 10,
   "id": "a7e5f0db",
   "metadata": {},
   "outputs": [],
   "source": [
    "descriptor = pd.DataFrame(columns=header_d)\n",
    "for k in range(len(n_var)):\n",
    "    list_desc = DIM, SUBD, VAR, n_var[k].upper(), descripcion[k], condicion[k].upper() ,FUENTE, AÑO, ALCANCE\n",
    "    descriptor.loc[k] = list_desc"
   ]
  },
  {
   "cell_type": "markdown",
   "id": "1d1e90d5",
   "metadata": {},
   "source": [
    "### Archivos complementarios\n",
    "CSV que indican orden de comunas, de región o excepciones para reemplazar en los nombres de las comunas y/o regiones de cada dataset. Notar que en este caso el archivo tiene un alcance COMUNAL."
   ]
  },
  {
   "cell_type": "code",
   "execution_count": 11,
   "id": "a622083b",
   "metadata": {},
   "outputs": [],
   "source": [
    "sort_by_comuna = \"s3://test1-rvc/Sort_by_comuna.csv\"\n",
    "sort_by_region = \"s3://test1-rvc/Sort_by_region.csv\"\n",
    "replace_sort = \"s3://test1-rvc/Sort_replace_weird_objects.csv\"\n",
    "\n",
    "#reading dataframe de orgen (regional o comunal) y matriz de reemplazos (para singularidades en comunas o regiones)\n",
    "reach = \"COMUNAL\"\n",
    "if reach == \"COMUNAL\":\n",
    "    sort_df = pd.read_csv(sort_by_comuna, sep = \";\")\n",
    "elif reach == \"REGIONAL\":\n",
    "    sort_df = pd.read_csv(sort_by_region, sep = \";\")\n",
    "else:\n",
    "    print(\"Debe indicar alcance: REGIONAL O COMUNAL\")\n",
    "replace = pd.read_csv(replace_sort, sep = \";\")"
   ]
  },
  {
   "cell_type": "markdown",
   "id": "951aadb1",
   "metadata": {},
   "source": [
    "### Juntar el descriptor con los datos"
   ]
  },
  {
   "cell_type": "code",
   "execution_count": 12,
   "id": "576eee6b",
   "metadata": {},
   "outputs": [],
   "source": [
    "main_df = sort_and_group(main_df, main_groupe, sort_df, replace).reset_index()\n",
    "df_add = pd.concat((descriptor,main_df),axis=1)\n",
    "del df_add[\"index\"]"
   ]
  },
  {
   "cell_type": "code",
   "execution_count": 13,
   "id": "71d225b5",
   "metadata": {},
   "outputs": [],
   "source": [
    "MC = \"s3://test1-rvc/Matriz_consulta.csv\"\n",
    "matrix_df = pd.read_csv(MC, sep = \",\")"
   ]
  },
  {
   "cell_type": "code",
   "execution_count": 14,
   "id": "89dee145",
   "metadata": {},
   "outputs": [],
   "source": [
    "df_add.columns = matrix_df.columns\n",
    "matrix_df_act = pd.concat((matrix_df,df_add),axis=0)"
   ]
  },
  {
   "cell_type": "markdown",
   "id": "d69494c8",
   "metadata": {},
   "source": [
    "# Exportar\n",
    "Se exporta la Matriz de consulta con los datos de CONAF agregados"
   ]
  },
  {
   "cell_type": "code",
   "execution_count": 15,
   "id": "bc9926d6",
   "metadata": {},
   "outputs": [],
   "source": [
    "matrix_df_act.to_csv('Matriz_consulta.csv', index=False, encoding='utf-8-sig')"
   ]
  },
  {
   "cell_type": "code",
   "execution_count": null,
   "id": "31eb78ed",
   "metadata": {},
   "outputs": [],
   "source": []
  }
 ],
 "metadata": {
  "kernelspec": {
   "display_name": "Python 3",
   "language": "python",
   "name": "python3"
  },
  "language_info": {
   "codemirror_mode": {
    "name": "ipython",
    "version": 3
   },
   "file_extension": ".py",
   "mimetype": "text/x-python",
   "name": "python",
   "nbconvert_exporter": "python",
   "pygments_lexer": "ipython3",
   "version": "3.8.8"
  }
 },
 "nbformat": 4,
 "nbformat_minor": 5
}
